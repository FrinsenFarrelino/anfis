{
  "nbformat": 4,
  "nbformat_minor": 0,
  "metadata": {
    "colab": {
      "provenance": [],
      "authorship_tag": "ABX9TyNNJ7HIR6BKK58oBJtGfPdD"
    },
    "kernelspec": {
      "name": "python3",
      "display_name": "Python 3"
    },
    "language_info": {
      "name": "python"
    }
  },
  "cells": [
    {
      "cell_type": "code",
      "source": [
        "pip install -U scikit-fuzzy"
      ],
      "metadata": {
        "colab": {
          "base_uri": "https://localhost:8080/"
        },
        "id": "yA9FWAT3vbef",
        "outputId": "378d2db6-28ec-42a9-92a6-52618e04a9f5"
      },
      "execution_count": null,
      "outputs": [
        {
          "output_type": "stream",
          "name": "stdout",
          "text": [
            "Requirement already satisfied: scikit-fuzzy in /usr/local/lib/python3.7/dist-packages (0.4.2)\n",
            "Requirement already satisfied: scipy>=0.9.0 in /usr/local/lib/python3.7/dist-packages (from scikit-fuzzy) (1.4.1)\n",
            "Requirement already satisfied: numpy>=1.6.0 in /usr/local/lib/python3.7/dist-packages (from scikit-fuzzy) (1.21.6)\n",
            "Requirement already satisfied: networkx>=1.9.0 in /usr/local/lib/python3.7/dist-packages (from scikit-fuzzy) (2.6.3)\n"
          ]
        }
      ]
    },
    {
      "cell_type": "code",
      "execution_count": null,
      "metadata": {
        "colab": {
          "base_uri": "https://localhost:8080/"
        },
        "id": "gsS_diSmRsXC",
        "outputId": "b4d9f480-dcf1-489a-acb5-ac6ca5988252"
      },
      "outputs": [
        {
          "output_type": "stream",
          "name": "stdout",
          "text": [
            "Drive already mounted at /content/drive; to attempt to forcibly remount, call drive.mount(\"/content/drive\", force_remount=True).\n"
          ]
        }
      ],
      "source": [
        "from google.colab import drive\n",
        "drive.mount('/content/drive')\n"
      ]
    },
    {
      "cell_type": "code",
      "source": [
        "!pip install anfis"
      ],
      "metadata": {
        "colab": {
          "base_uri": "https://localhost:8080/"
        },
        "id": "GRqFYJhKzn1E",
        "outputId": "e4568648-9d74-49eb-b576-2fd8768d97eb"
      },
      "execution_count": null,
      "outputs": [
        {
          "output_type": "stream",
          "name": "stdout",
          "text": [
            "Requirement already satisfied: anfis in /usr/local/lib/python3.7/dist-packages (0.3.1)\n",
            "Requirement already satisfied: numpy in /usr/local/lib/python3.7/dist-packages (from anfis) (1.21.6)\n",
            "Requirement already satisfied: matplotlib in /usr/local/lib/python3.7/dist-packages (from anfis) (3.2.2)\n",
            "Requirement already satisfied: scikit-fuzzy in /usr/local/lib/python3.7/dist-packages (from anfis) (0.4.2)\n",
            "Requirement already satisfied: python-dateutil>=2.1 in /usr/local/lib/python3.7/dist-packages (from matplotlib->anfis) (2.8.2)\n",
            "Requirement already satisfied: cycler>=0.10 in /usr/local/lib/python3.7/dist-packages (from matplotlib->anfis) (0.11.0)\n",
            "Requirement already satisfied: pyparsing!=2.0.4,!=2.1.2,!=2.1.6,>=2.0.1 in /usr/local/lib/python3.7/dist-packages (from matplotlib->anfis) (3.0.8)\n",
            "Requirement already satisfied: kiwisolver>=1.0.1 in /usr/local/lib/python3.7/dist-packages (from matplotlib->anfis) (1.4.2)\n",
            "Requirement already satisfied: typing-extensions in /usr/local/lib/python3.7/dist-packages (from kiwisolver>=1.0.1->matplotlib->anfis) (4.2.0)\n",
            "Requirement already satisfied: six>=1.5 in /usr/local/lib/python3.7/dist-packages (from python-dateutil>=2.1->matplotlib->anfis) (1.15.0)\n",
            "Requirement already satisfied: networkx>=1.9.0 in /usr/local/lib/python3.7/dist-packages (from scikit-fuzzy->anfis) (2.6.3)\n",
            "Requirement already satisfied: scipy>=0.9.0 in /usr/local/lib/python3.7/dist-packages (from scikit-fuzzy->anfis) (1.4.1)\n"
          ]
        }
      ]
    },
    {
      "cell_type": "code",
      "source": [
        "from skfuzzy import gaussmf, gbellmf, sigmf\n",
        "\n",
        "#Class memfuncs\n",
        "class MemFuncs:\n",
        "    funcDict = {'gaussmf': gaussmf, 'gbellmf': gbellmf, 'sigmf': sigmf}\n",
        "\n",
        "    #fungsi init\n",
        "    def __init__(self, MFList):\n",
        "        self.MFList = MFList\n",
        "\n",
        "    #fungsi evaluateMF\n",
        "    def evaluateMF(self, rowInput):\n",
        "        if len(rowInput) != len(self.MFList):\n",
        "            print(\"Number of variables does not match number of rule sets\")\n",
        "\n",
        "        return [[self.funcDict[self.MFList[i][k][0]](rowInput[i],**self.MFList[i][k][1]) for k in range(len(self.MFList[i]))] for i in range(len(rowInput))]"
      ],
      "metadata": {
        "id": "ZSgDcOUjwxKp"
      },
      "execution_count": null,
      "outputs": []
    },
    {
      "cell_type": "code",
      "source": [
        "import numpy as np\n",
        "\n",
        "#fungsi partial_dMF\n",
        "#menghitung turunan dari fungsi keanggotaan fuzzy pada sebuah input X\n",
        "def partial_dMF(x, mf_definition, partial_parameter):\n",
        "  mf_name = mf_definition[0]\n",
        "\n",
        "  #menghitung turunan dari fungsi gaussian dengan parameter input sigma dan mean\n",
        "  if mf_name == 'gaussmf':\n",
        "    sigma = mf_definition[1]['sigma']\n",
        "    mean = mf_definition[1]['mean']\n",
        "    if partial_parameter == 'sigma':\n",
        "      result = (2./sigma**3) * np.exp(-(((x-mean)**2)/(sigma)**2))*(x-mean)**2\n",
        "    elif partial_parameter == 'mean':\n",
        "      result = (2./sigma**2) * np.exp(-(((x-mean)**2)/(sigma)**2))*(x-mean)\n",
        "  #menghitung turunan dari fungsi gbell dengan parameter input :a,b,c\n",
        "  elif mf_name == 'gbellmf':\n",
        "    a = mf_definition[1]['a']\n",
        "    b = mf_definition[1]['b']\n",
        "    c = mf_definition[1]['c']\n",
        "    if partial_parameter == 'a':\n",
        "      result = (2. * b * np.power((c-x),2) * np.power(np.absolute((c-x)/a), ((2 * b) - 2))) / \\\n",
        "      (np.power(a, 3) * np.power((np.power(np.absolute((c-x)/a),(2*b)) + 1), 2))\n",
        "    elif partial_parameter == 'b':\n",
        "      if (c-x)!=0:\n",
        "        result = -1 * (2 * np.power(np.absolute((c-x)/a), (2 * b)) * np.log(np.absolute((c-x)/a))) / \\\n",
        "        (np.power((np.power(np.absolute((c-x)/a), (2 * b)) + 1), 2))\n",
        "      else:\n",
        "        result=0\n",
        "    elif partial_parameter == 'c':\n",
        "      if (c-x)!=0:\n",
        "        result = (2. * b * (c-x) * np.power(np.absolute((c-x)/a), ((2 * b) - 2))) / \\\n",
        "        (np.power(a, 2) * np.power((np.power(np.absolute((c-x)/a),(2*b)) + 1), 2))\n",
        "      else:\n",
        "        result=0\n",
        "  #menghitung turunan dari fungsi sigmoid dengan parameter input : b,c\n",
        "  elif mf_name == 'sigmf':\n",
        "    b = mf_definition[1]['b']\n",
        "    c = mf_definition[1]['c']\n",
        "    if partial_parameter == 'b':\n",
        "      result = -1 * (c * np.exp(c * (b + x))) / \\\n",
        "      np.power((np.exp(b*c) + np.exp(c*x)), 2)\n",
        "    elif partial_parameter == 'c':\n",
        "      result = ((x - b) * np.exp(c * (x - b))) / \\\n",
        "      np.power((np.exp(c * (x - c))) + 1, 2)\n",
        "  return result\n",
        "\n",
        "\n"
      ],
      "metadata": {
        "id": "Ob9zkeQB1n24"
      },
      "execution_count": null,
      "outputs": []
    },
    {
      "cell_type": "code",
      "source": [
        "#class ANFIS\n",
        "#X : input data training\n",
        "#Y : output data training\n",
        "#XLen : banyaknya data training\n",
        "#memClass : class membership function\n",
        "#memFuncs : membership function\n",
        "#memFuncsByVariable : membership function untuk setiap variabel\n",
        "#rules : menunjukkan rule yang digunakan (1 mf, 1 rule)\n",
        "#consequents : parameter pada bagian consequent\n",
        "#errors : error hasil prediksi\n",
        "\n",
        "class ANFIS:\n",
        "    #fungsi init\n",
        "    #inisialisasi\n",
        "    def __init__(self, X, Y, memFunction):\n",
        "        self.X = np.array(copy.copy(X))\n",
        "        self.Y = np.array(copy.copy(Y))\n",
        "        self.XLen = len(self.X)\n",
        "        self.memClass = copy.deepcopy(memFunction)\n",
        "        self.memFuncs = self.memClass.MFList\n",
        "        self.memFuncsByVariable = [[x for x in range(len(self.memFuncs[z]))] for z in range(len(self.memFuncs))]\n",
        "        self.rules = np.array(list(itertools.product(*self.memFuncsByVariable)))\n",
        "        self.consequents = np.empty(self.Y.ndim * len(self.rules) * (self.X.shape[1] + 1))\n",
        "        self.consequents.fill(0)\n",
        "        self.errors = np.empty(0)\n",
        "        self.memFuncsHomo = all(len(i)==len(self.memFuncsByVariable[0]) for i in self.memFuncsByVariable)\n",
        "        self.trainingType = 'Not trained yet'\n",
        "\n",
        "    #fungsi LSE\n",
        "    def LSE(self, A, B, initialGamma = 1000.):\n",
        "        coeffMat = A\n",
        "        rhsMat = B\n",
        "        S = np.eye(coeffMat.shape[1])*initialGamma\n",
        "        x = np.zeros((coeffMat.shape[1],1))\n",
        "        for i in range(len(coeffMat[:,0])):\n",
        "            a = coeffMat[i,:]\n",
        "            b = np.array(rhsMat[i])\n",
        "            S = S - (np.array(np.dot(np.dot(np.dot(S,np.matrix(a).transpose()),np.matrix(a)),S)))/(1+(np.dot(np.dot(S,a),a)))\n",
        "            x = x + (np.dot(S,np.dot(np.matrix(a).transpose(),(np.matrix(b)-np.dot(np.matrix(a),x)))))\n",
        "        return x\n",
        "\n",
        "    #fungsi training hybrid\n",
        "    def trainHybridJangOffLine(self, epochs=5, tolerance=1e-5, initialGamma=1000, k=0.01):\n",
        "\n",
        "        self.trainingType = 'trainHybridJangOffLine'\n",
        "        convergence = False\n",
        "        epoch = 1\n",
        "\n",
        "        #Mulai proses looping : Menghitung luaran dan komputasi LSE\n",
        "        while (epoch < epochs) and (convergence is not True):\n",
        "\n",
        "            #layer four: forward pass\n",
        "            [layerFour, wSum, w] = forwardHalfPass(self, self.X)\n",
        "\n",
        "            #layer five: least squares estimate\n",
        "            layerFive = np.array(self.LSE(layerFour,self.Y,initialGamma))\n",
        "            self.consequents = layerFive\n",
        "            layerFive = np.dot(layerFour,layerFive)\n",
        "\n",
        "            #error\n",
        "            #Menghitung error pada layer 5 dan mengecek kondisi konvergen\n",
        "            error = np.sum((self.Y-layerFive.T)**2)\n",
        "            print('current error: '+ str(error))\n",
        "            average_error = np.average(np.absolute(self.Y-layerFive.T))\n",
        "            self.errors = np.append(self.errors,error)\n",
        "\n",
        "            if len(self.errors) != 0:\n",
        "                if self.errors[len(self.errors)-1] < tolerance:\n",
        "                    convergence = True\n",
        "\n",
        "            # back propagation : menghitung error ke depan mulai layer 3\n",
        "            if convergence is not True:\n",
        "                cols = range(len(self.X[0,:]))\n",
        "                dE_dAlpha = list(backprop(self, colX, cols, wSum, w, layerFive) for colX in range(self.X.shape[1]))\n",
        "\n",
        "\n",
        "            if len(self.errors) >= 4:\n",
        "                if (self.errors[-4] > self.errors[-3] > self.errors[-2] > self.errors[-1]):\n",
        "                    k = k * 1.1\n",
        "\n",
        "            if len(self.errors) >= 5:\n",
        "                if (self.errors[-1] < self.errors[-2]) and (self.errors[-3] < self.errors[-2]) and (self.errors[-3] < self.errors[-4]) and (self.errors[-5] > self.errors[-4]):\n",
        "                    k = k * 0.9\n",
        "\n",
        "            ## handling of variables with a different number of MFs\n",
        "            #Menangani variable input dengan jumlah fungsi keanggotaan yang berbeda\n",
        "            t = []\n",
        "            for x in range(len(dE_dAlpha)):\n",
        "                for y in range(len(dE_dAlpha[x])):\n",
        "                    for z in range(len(dE_dAlpha[x][y])):\n",
        "                        t.append(dE_dAlpha[x][y][z])\n",
        "\n",
        "            eta = k / np.abs(np.sum(t))\n",
        "\n",
        "            if(np.isinf(eta)):\n",
        "                eta = k\n",
        "\n",
        "            dAlpha = copy.deepcopy(dE_dAlpha)\n",
        "            if not(self.memFuncsHomo):\n",
        "                for x in range(len(dE_dAlpha)):\n",
        "                    for y in range(len(dE_dAlpha[x])):\n",
        "                        for z in range(len(dE_dAlpha[x][y])):\n",
        "                            dAlpha[x][y][z] = -eta * dE_dAlpha[x][y][z]\n",
        "            else:\n",
        "                dAlpha = -eta * np.array(dE_dAlpha)\n",
        "\n",
        "\n",
        "            #Mengupdate parameter dan menghitung luaran baru\n",
        "            for varsWithMemFuncs in range(len(self.memFuncs)):\n",
        "                for MFs in range(len(self.memFuncsByVariable[varsWithMemFuncs])):\n",
        "                    paramList = sorted(self.memFuncs[varsWithMemFuncs][MFs][1])\n",
        "                    for param in range(len(paramList)):\n",
        "                        self.memFuncs[varsWithMemFuncs][MFs][1][paramList[param]] = self.memFuncs[varsWithMemFuncs][MFs][1][paramList[param]] + dAlpha[varsWithMemFuncs][MFs][param]\n",
        "            epoch = epoch + 1\n",
        "\n",
        "\n",
        "        self.fittedValues = predict(self,self.X)\n",
        "        self.residuals = self.Y - self.fittedValues[:,0]\n",
        "\n",
        "        return self.fittedValues\n",
        "\n",
        "    #fungsi plot error\n",
        "    def plotErrors(self):\n",
        "        if self.trainingType == 'Not trained yet':\n",
        "            print(self.trainingType)\n",
        "        else:\n",
        "            import matplotlib.pyplot as plt\n",
        "            plt.plot(range(len(self.errors)),self.errors,'ro', label='errors')\n",
        "            plt.ylabel('error')\n",
        "            plt.xlabel('epoch')\n",
        "            plt.show()\n",
        "\n",
        "    #fungsi plot membership function\n",
        "    def plotMF(self, x, inputVar):\n",
        "        import matplotlib.pyplot as plt\n",
        "        from skfuzzy import gaussmf, gbellmf, sigmf\n",
        "\n",
        "        for mf in range(len(self.memFuncs[inputVar])):\n",
        "            if self.memFuncs[inputVar][mf][0] == 'gaussmf':\n",
        "                y = gaussmf(x,**self.memClass.MFList[inputVar][mf][1])\n",
        "            elif self.memFuncs[inputVar][mf][0] == 'gbellmf':\n",
        "                y = gbellmf(x,**self.memClass.MFList[inputVar][mf][1])\n",
        "            elif self.memFuncs[inputVar][mf][0] == 'sigmf':\n",
        "                y = sigmf(x,**self.memClass.MFList[inputVar][mf][1])\n",
        "\n",
        "            plt.plot(x,y,'r')\n",
        "\n",
        "        plt.show()\n",
        "\n",
        "    #fungsi plot result\n",
        "    def plotResults(self):\n",
        "        if self.trainingType == 'Not trained yet':\n",
        "            print(self.trainingType)\n",
        "        else:\n",
        "            import matplotlib.pyplot as plt\n",
        "            plt.plot(range(len(self.fittedValues)),self.fittedValues,'r', label='trained')\n",
        "            plt.plot(range(len(self.Y)),self.Y,'b', label='original')\n",
        "            plt.legend(loc='upper left')\n",
        "            plt.show()\n"
      ],
      "metadata": {
        "id": "z0mQQQkFSfJO"
      },
      "execution_count": null,
      "outputs": []
    },
    {
      "cell_type": "code",
      "source": [
        "#fungsi forward\n",
        "#digunakan untuk mendapatkan luaran tiap layer sampai layer ke-empat\n",
        "def forwardHalfPass(ANFISObj, Xs):\n",
        "    layerFour = np.empty(0,)\n",
        "    wSum = []\n",
        "\n",
        "    #Mulai looping dan perhitungan di layer 1 :\n",
        "    for pattern in range(len(Xs[:,0])):\n",
        "        #layer one\n",
        "        layerOne = ANFISObj.memClass.evaluateMF(Xs[pattern,:])\n",
        "\n",
        "        #Perhitungan di layer 2:\n",
        "        #layer two\n",
        "        miAlloc = [[layerOne[x][ANFISObj.rules[row][x]] for x in range(len(ANFISObj.rules[0]))] for row in range(len(ANFISObj.rules))]\n",
        "        layerTwo = np.array([np.product(x) for x in miAlloc]).T\n",
        "        if pattern == 0:\n",
        "            w = layerTwo\n",
        "        else:\n",
        "            w = np.vstack((w,layerTwo))\n",
        "\n",
        "        #Perhitungan di layer 3:\n",
        "        #layer three\n",
        "        wSum.append(np.sum(layerTwo))\n",
        "        if pattern == 0:\n",
        "            wNormalized = layerTwo/wSum[pattern]\n",
        "        else:\n",
        "            wNormalized = np.vstack((wNormalized,layerTwo/wSum[pattern]))\n",
        "\n",
        "        #Perhitungan di layer 4:\n",
        "        #prep for layer four (bit of a hack)\n",
        "        layerThree = layerTwo/wSum[pattern]\n",
        "        rowHolder = np.concatenate([x*np.append(Xs[pattern,:],1) for x in layerThree])\n",
        "        layerFour = np.append(layerFour,rowHolder)\n",
        "\n",
        "    #Return nilai layer 4 (setelah looping):\n",
        "    w = w.T\n",
        "    wNormalized = wNormalized.T\n",
        "\n",
        "    layerFour = np.array(np.array_split(layerFour,pattern + 1))\n",
        "\n",
        "    return layerFour, wSum, w"
      ],
      "metadata": {
        "id": "EMVOPj-c4U2U"
      },
      "execution_count": null,
      "outputs": []
    },
    {
      "cell_type": "code",
      "source": [
        "#fungsi backward pass\n",
        "#fungsi yang digunakan untuk mengupdate parameter pada fungsi keanggotaan dengan langkah kebelakang\n",
        "def backprop(ANFISObj, columnX, columns, theWSum, theW, theLayerFive):\n",
        "\n",
        "    paramGrp = [0]* len(ANFISObj.memFuncs[columnX])\n",
        "    #Untuk semua fungsi keanggotaan:\n",
        "    for MF in range(len(ANFISObj.memFuncs[columnX])):\n",
        "        parameters = np.empty(len(ANFISObj.memFuncs[columnX][MF][1]))\n",
        "        timesThru = 0\n",
        "        #Untuk semua parameter pada fungsi ke anggotaan ke-MF, dan untuk semua baris dari parameter\n",
        "        for alpha in sorted(ANFISObj.memFuncs[columnX][MF][1].keys()):\n",
        "\n",
        "            bucket3 = np.empty(len(ANFISObj.X))\n",
        "            for rowX in range(len(ANFISObj.X)):\n",
        "                varToTest = ANFISObj.X[rowX,columnX]\n",
        "                tmpRow = np.empty(len(ANFISObj.memFuncs))\n",
        "                tmpRow.fill(varToTest)\n",
        "\n",
        "                bucket2 = np.empty(ANFISObj.Y.ndim)\n",
        "\n",
        "                #Untuk semua kolom pada baris terpilih, hitung delta alpha (besarnya perubahan setiap parameter)\n",
        "                for colY in range(ANFISObj.Y.ndim):\n",
        "\n",
        "                    rulesWithAlpha = np.array(np.where(ANFISObj.rules[:,columnX]==MF))[0]\n",
        "                    adjCols = np.delete(columns,columnX)\n",
        "\n",
        "                    senSit = partial_dMF(ANFISObj.X[rowX,columnX],ANFISObj.memFuncs[columnX][MF],alpha)\n",
        "                    # produces d_ruleOutput/d_parameterWithinMF\n",
        "                    dW_dAplha = senSit * np.array([np.prod([ANFISObj.memClass.evaluateMF(tmpRow)[c][ANFISObj.rules[r][c]] for c in adjCols]) for r in rulesWithAlpha])\n",
        "\n",
        "                    bucket1 = np.empty(len(ANFISObj.rules[:,0]))\n",
        "\n",
        "                    #Untuk semua fungsi konsekuen hitung hasil fungsi nya\n",
        "                    for consequent in range(len(ANFISObj.rules[:,0])):\n",
        "                        fConsequent = np.dot(np.append(ANFISObj.X[rowX,:],1.),ANFISObj.consequents[((ANFISObj.X.shape[1] + 1) * consequent):(((ANFISObj.X.shape[1] + 1) * consequent) + (ANFISObj.X.shape[1] + 1)),colY])\n",
        "                        acum = 0\n",
        "                        if consequent in rulesWithAlpha:\n",
        "                            acum = dW_dAplha[np.where(rulesWithAlpha==consequent)] * theWSum[rowX]\n",
        "\n",
        "                        acum = acum - theW[consequent,rowX] * np.sum(dW_dAplha)\n",
        "                        acum = acum / theWSum[rowX]**2\n",
        "                        bucket1[consequent] = fConsequent * acum\n",
        "\n",
        "                    #Hitung akumulasi untuk setiap looping dan kembalikan nilai parameter terakhir\n",
        "                    sum1 = np.sum(bucket1)\n",
        "\n",
        "                    if ANFISObj.Y.ndim == 1:\n",
        "                        bucket2[colY] = sum1 * (ANFISObj.Y[rowX]-theLayerFive[rowX,colY])*(-2)\n",
        "                    else:\n",
        "                        bucket2[colY] = sum1 * (ANFISObj.Y[rowX,colY]-theLayerFive[rowX,colY])*(-2)\n",
        "\n",
        "                sum2 = np.sum(bucket2)\n",
        "                bucket3[rowX] = sum2\n",
        "\n",
        "            sum3 = np.sum(bucket3)\n",
        "            parameters[timesThru] = sum3\n",
        "            timesThru = timesThru + 1\n",
        "\n",
        "        paramGrp[MF] = parameters\n",
        "\n",
        "    return paramGrp"
      ],
      "metadata": {
        "id": "SFXTtJgb4bbC"
      },
      "execution_count": null,
      "outputs": []
    },
    {
      "cell_type": "code",
      "source": [
        "#fungsi predict\n",
        "#Fungsi ini digunakan untuk memprediksi atau mendapatkan nilai luaran pada layer kelima\n",
        "def predict(ANFISObj, varsToTest):\n",
        "\n",
        "    [layerFour, wSum, w] = forwardHalfPass(ANFISObj, varsToTest)\n",
        "\n",
        "    #layer five\n",
        "    layerFive = np.dot(layerFour,ANFISObj.consequents)\n",
        "\n",
        "    return layerFive"
      ],
      "metadata": {
        "id": "csEV6q524llh"
      },
      "execution_count": null,
      "outputs": []
    },
    {
      "cell_type": "code",
      "source": [
        "#import library\n",
        "import numpy as np\n",
        "import copy\n",
        "import itertools\n",
        "\n",
        "#load txt\n",
        "ts = np.loadtxt('/content/drive/My Drive/Colab Notebooks/trainingSet2.txt', usecols=[1,2,3])\n",
        "X = ts[:,0:2]\n",
        "Y = ts[:,2]\n",
        "\n",
        "#Definisikan fungsi keanggotaan mula-mula dan komputasi setiap fungsi keanggotaan\n",
        "mf = [[['gbellmf',{'a':3.,'b':2.,'c':0.}], ['gbellmf',{'a':3.,'b':2.,'c':10.}]],\n",
        "      [['gbellmf',{'a':2.,'b':3.,'c':0.}], ['gbellmf',{'a':2.,'b' :3.,'c':10.}]]]\n",
        "mfc = MemFuncs(mf)\n"
      ],
      "metadata": {
        "id": "0xBGQMG1sWeY"
      },
      "execution_count": null,
      "outputs": []
    },
    {
      "cell_type": "code",
      "source": [
        "# Definisikan ANFIS dan jalankan proses training\n",
        "anf = ANFIS(X, Y, mfc)\n",
        "anf.trainHybridJangOffLine(epochs=100)\n",
        "print(\"Plotting errors\")\n",
        "anf.plotErrors()\n",
        "print(\"Plotting results\")\n",
        "anf.plotResults()"
      ],
      "metadata": {
        "colab": {
          "base_uri": "https://localhost:8080/",
          "height": 1000
        },
        "id": "PFmpVuYaDUyV",
        "outputId": "7c3fa198-d5dc-455a-84c9-8021b0f7f851"
      },
      "execution_count": null,
      "outputs": [
        {
          "output_type": "stream",
          "name": "stdout",
          "text": [
            "current error: 3345.5996994969114\n",
            "current error: 3345.14512503469\n",
            "current error: 3344.6937164306923\n",
            "current error: 3344.2454662224236\n",
            "current error: 3343.7558224769436\n",
            "current error: 3343.2213577040616\n",
            "current error: 3342.638447902624\n",
            "current error: 3342.0032824028167\n",
            "current error: 3341.311880431467\n",
            "current error: 3340.560116112196\n",
            "current error: 3339.74375394381\n",
            "current error: 3338.8584971748087\n",
            "current error: 3337.900051924184\n",
            "current error: 3336.864210375824\n",
            "current error: 3335.7469569035266\n",
            "current error: 3334.544601561916\n",
            "current error: 3333.253946000894\n",
            "current error: 3331.872487519745\n",
            "current error: 3330.398667669035\n",
            "current error: 3328.832172523365\n",
            "current error: 3327.1742924877603\n",
            "current error: 3325.428350270045\n",
            "current error: 3323.6002064617105\n",
            "current error: 3321.6988530602107\n",
            "current error: 3319.737106269865\n",
            "current error: 3317.7324110954673\n",
            "current error: 3315.7077716175654\n",
            "current error: 3313.692822390117\n",
            "current error: 3311.72505795294\n",
            "current error: 3309.851238539173\n",
            "current error: 3308.128989696089\n",
            "current error: 3306.6286098165\n",
            "current error: 3305.4350890483656\n",
            "current error: 3304.6503196858425\n",
            "current error: 3304.3954315656933\n",
            "current error: 3304.8130984832437\n",
            "current error: 3305.957764389077\n",
            "current error: 3307.786683533196\n",
            "current error: 3310.258572806522\n",
            "current error: 3313.332630656422\n",
            "current error: 3316.967628500643\n",
            "current error: 3321.1210252683873\n",
            "current error: 3325.7480376532603\n",
            "current error: 3330.8005674763326\n",
            "current error: 3336.2258303149947\n",
            "current error: 3341.964419262792\n",
            "current error: 3347.947312856638\n",
            "current error: 3354.0908436070513\n",
            "current error: 3360.2874603227433\n",
            "current error: 3366.386912606224\n",
            "current error: 3372.152269609632\n",
            "current error: 3377.1339415622588\n",
            "current error: 3380.159961389004\n",
            "current error: 3374.7627503408407\n",
            "current error: 3343.172053027905\n",
            "current error: 3329.9064940366447\n",
            "current error: 3315.4519434970584\n",
            "current error: 3298.554727396197\n",
            "current error: 3276.851047394197\n",
            "current error: 3244.897443943441\n",
            "current error: 3188.6126264109485\n",
            "current error: 3081.281820315649\n",
            "current error: 2997.3222557196173\n",
            "current error: 3156.2293980743416\n",
            "current error: 3154.26371114592\n",
            "current error: 3153.524079215305\n",
            "current error: 3154.2256270917683\n",
            "current error: 3156.7310822502777\n",
            "current error: 3161.1379365219796\n",
            "current error: 3167.1841073209544\n",
            "current error: 3174.442682989436\n",
            "current error: 3182.7909954025417\n",
            "current error: 3190.0116089694125\n",
            "current error: 3170.3021664526304\n",
            "current error: 3153.5759641560057\n",
            "current error: 3188.5775298425465\n",
            "current error: 3173.382381543278\n",
            "current error: 3424.2062862873513\n",
            "current error: 3580.9017110154005\n",
            "current error: 3361.609806207975\n",
            "current error: 3366.7898467545315\n",
            "current error: 3380.309783263555\n",
            "current error: 3396.1391750273715\n",
            "current error: 3423.186194392724\n",
            "current error: 3394.685460360492\n",
            "current error: 3552.6921501525067\n",
            "current error: 3307.2318342279586\n",
            "current error: 3463.3341853485063\n",
            "current error: 3331.8257390703084\n",
            "current error: 3358.665370593671\n",
            "current error: 3603.7049229453687\n",
            "current error: 3411.188306889503\n",
            "current error: 3535.408391571056\n",
            "current error: 3282.226419073621\n",
            "current error: 3534.437194947978\n",
            "current error: 3264.283852392719\n",
            "current error: 3411.794606154757\n",
            "current error: 3374.0800656675424\n",
            "current error: 3406.0649180179703\n",
            "Plotting errors\n"
          ]
        },
        {
          "output_type": "display_data",
          "data": {
            "text/plain": [
              "<Figure size 432x288 with 1 Axes>"
            ],
            "image/png": "[encoded data removed]"
          },
          "metadata": {
            "needs_background": "light"
          }
        },
        {
          "output_type": "stream",
          "name": "stdout",
          "text": [
            "Plotting results\n"
          ]
        },
        {
          "output_type": "display_data",
          "data": {
            "text/plain": [
              "<Figure size 432x288 with 1 Axes>"
            ],
            "image/png": "[encoded data removed]"
          },
          "metadata": {
            "needs_background": "light"
          }
        }
      ]
    },
    {
      "cell_type": "code",
      "source": [
        "#prediksi luaran sistem, input 2 dan 2\n",
        "z=predict(anf, np.array([[2., 2.]]))\n",
        "z"
      ],
      "metadata": {
        "colab": {
          "base_uri": "https://localhost:8080/"
        },
        "id": "sUtMMq6G7vJa",
        "outputId": "b5b572b3-b3a6-42de-dc0e-9ca41cc3a262"
      },
      "execution_count": null,
      "outputs": [
        {
          "output_type": "execute_result",
          "data": {
            "text/plain": [
              "array([[39.3138184]])"
            ]
          },
          "metadata": {},
          "execution_count": 28
        }
      ]
    },
    {
      "cell_type": "code",
      "source": [
        "#prediksi luaran sistem, input 52 dan 52\n",
        "z=predict(anf, np.array([[52., 52.]]))\n",
        "z"
      ],
      "metadata": {
        "colab": {
          "base_uri": "https://localhost:8080/"
        },
        "id": "6EFQwWDpCWUm",
        "outputId": "9f64b366-442d-4d77-daee-8c4c4eecfcfb"
      },
      "execution_count": null,
      "outputs": [
        {
          "output_type": "execute_result",
          "data": {
            "text/plain": [
              "array([[-8.77428228]])"
            ]
          },
          "metadata": {},
          "execution_count": 30
        }
      ]
    },
    {
      "cell_type": "code",
      "source": [
        "#fungsi keanggotaan baru yang diperoleh dari hasil pembelajaran ANFIS\n",
        "anf.memFuncs"
      ],
      "metadata": {
        "colab": {
          "base_uri": "https://localhost:8080/"
        },
        "id": "6VShqEyB71PB",
        "outputId": "56e79dd3-b293-4336-da9c-48bba0928064"
      },
      "execution_count": null,
      "outputs": [
        {
          "output_type": "execute_result",
          "data": {
            "text/plain": [
              "[[['gbellmf',\n",
              "   {'a': 5.2344419394301385,\n",
              "    'b': -0.3005466773067421,\n",
              "    'c': -0.47281351312573394}],\n",
              "  ['gbellmf',\n",
              "   {'a': 7.798857847949566, 'b': 4.139105007234189, 'c': 8.280606574873897}]],\n",
              " [['gbellmf',\n",
              "   {'a': 5.697304679785723, 'b': 4.668961042197945, 'c': -4.6657085544255965}],\n",
              "  ['gbellmf',\n",
              "   {'a': 0.5230912831579038, 'b': 3.72971655933794, 'c': 10.03797479654563}]]]"
            ]
          },
          "metadata": {},
          "execution_count": 31
        }
      ]
    },
    {
      "cell_type": "code",
      "source": [
        "#parameter consequent untuk rule\n",
        "anf.consequents"
      ],
      "metadata": {
        "colab": {
          "base_uri": "https://localhost:8080/"
        },
        "id": "xXIbnreR78rG",
        "outputId": "840a9003-5df1-4595-a398-c24549691bfb"
      },
      "execution_count": null,
      "outputs": [
        {
          "output_type": "execute_result",
          "data": {
            "text/plain": [
              "array([[ 19.97529648],\n",
              "       [ -1.57200003],\n",
              "       [261.31832693],\n",
              "       [ -6.35902714],\n",
              "       [ 60.56621478],\n",
              "       [ 28.31270376],\n",
              "       [-28.19621759],\n",
              "       [  1.77872573],\n",
              "       [-25.35309812],\n",
              "       [-38.4685395 ],\n",
              "       [-12.53923279],\n",
              "       [ 33.11341391]])"
            ]
          },
          "metadata": {},
          "execution_count": 32
        }
      ]
    },
    {
      "cell_type": "code",
      "source": [
        "#perhitungan error hasil prediksi\n",
        "import math\n",
        "cons_new = anf.consequents\n",
        "MSE = np.square(np.subtract(cons_new,z)).mean()\n",
        "RMSE = math.sqrt(MSE)\n",
        "print(\"RMSE:\",RMSE)"
      ],
      "metadata": {
        "colab": {
          "base_uri": "https://localhost:8080/"
        },
        "id": "o7TSXL4y8Arv",
        "outputId": "283aea27-d816-4cb3-a65e-7fc309f6b95f"
      },
      "execution_count": null,
      "outputs": [
        {
          "output_type": "stream",
          "name": "stdout",
          "text": [
            "RMSE: 83.38252652922749\n"
          ]
        }
      ]
    }
  ]
}